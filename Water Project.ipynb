{
 "cells": [
  {
   "cell_type": "code",
   "execution_count": 1,
   "metadata": {},
   "outputs": [],
   "source": [
    "#instantiate cursor and load libraries\n",
    "import json\n",
    "import pandas as pd\n",
    "import requests\n",
    "import mysql.connector\n",
    "import time\n",
    "import config\n",
    "import requests\n",
    "from pandas.io.json import json_normalize"
   ]
  },
  {
   "cell_type": "code",
   "execution_count": 2,
   "metadata": {},
   "outputs": [],
   "source": [
    "import numpy as np"
   ]
  },
  {
   "cell_type": "code",
   "execution_count": 3,
   "metadata": {},
   "outputs": [],
   "source": [
    "csvs = ['LA_water_data.csv', '']"
   ]
  },
  {
   "cell_type": "code",
   "execution_count": 28,
   "metadata": {},
   "outputs": [],
   "source": [
    "def read_csv(csvs):\n",
    "    for csv in csvs:\n",
    "        df = pd.read_csv(csv)\n",
    "        df.rename(columns={'ActivityLocation/LatitudeMeasure': 'ActivityLatitude',\n",
    "                           'ActivityLocation/LongitudeMeasure': 'ActivityLongitude',\n",
    "                           'CharacteristicName':'Contaminant',\n",
    "                           'ResultMeasureValue':'DetectedLevel',\n",
    "                           'ResultMeasure/MeasureUnitCode':'LevelUnit'}, inplace=True)\n",
    "        rows = ['Lead', 'Copper']\n",
    "        copper_and_lead_df = df[df['Contaminant'].isin(rows)]\n",
    "        final_copper_and_lead_df = pd.DataFrame(copper_and_lead_df[['ActivityIdentifier',\n",
    "                                                                    'ActivityLatitude',\n",
    "                                                                    'ActivityLongitude',\n",
    "                                                                    'AnalysisStartDate',\n",
    "                                                                    'Contaminant',\n",
    "                                                                    'DetectedLevel',\n",
    "                                                                    'LevelUnit',\n",
    "                                                                    'ActivityMediaSubdivisionName']])\n",
    "        \n",
    "        final_copper_and_lead_df = final_copper_and_lead_df[pd.notnull(final_copper_and_lead_df['DetectedLevel'])]\n",
    "        final_copper_and_lead_df['DetectedLevel'] = final_copper_and_lead_df.DetectedLevel.astype(float)\n",
    "        final_copper_and_lead_df = final_copper_and_lead_df[pd.notnull(final_copper_and_lead_df['DetectedLevel'])]\n",
    "        final_copper_and_lead_df = final_copper_and_lead_df.where((pd.notnull(final_copper_and_lead_df)), None)\n",
    "        final_copper_and_lead_df = final_copper_and_lead_df.replace('ND', 0)\n",
    "        \n",
    "        print('all csvs read')\n",
    "        return final_copper_and_lead_df\n",
    "\n",
    "# read_csv(csvs)"
   ]
  },
  {
   "cell_type": "code",
   "execution_count": 4,
   "metadata": {},
   "outputs": [],
   "source": [
    "#set up mysql connection\n",
    "cnx = mysql.connector.connect(\n",
    "    host = config.host,\n",
    "    user = config.user,\n",
    "    password = config.password)\n",
    "    \n",
    "cursor = cnx.cursor()"
   ]
  },
  {
   "cell_type": "code",
   "execution_count": 19,
   "metadata": {},
   "outputs": [],
   "source": [
    "#create database\n",
    "from mysql.connector import errorcode\n",
    "db_name = 'water'\n",
    "\n",
    "def create_database(cursor, database):\n",
    "    try:\n",
    "        cursor.execute(\n",
    "            \"CREATE DATABASE {} DEFAULT CHARACTER SET 'utf8'\".format(database))\n",
    "    except mysql.connector.Error as err:\n",
    "        print(\"Failed creating database: {}\".format(err))\n",
    "        exit(1)\n",
    "\n",
    "try:\n",
    "    cursor.execute(\"USE {}\".format(db_name))\n",
    "except mysql.connector.Error as err:\n",
    "    print(\"Database {} does not exist.\".format(db_name))\n",
    "    if err.errno == errorcode.ER_BAD_DB_ERROR:\n",
    "        create_database(cursor, db_name)\n",
    "        print(\"Database {} created successfully.\".format(db_name))\n",
    "        cnx.database = db_name\n",
    "    else:\n",
    "        print(err)\n",
    "        exit(1)"
   ]
  },
  {
   "cell_type": "code",
   "execution_count": 5,
   "metadata": {},
   "outputs": [],
   "source": [
    "#specify database for connection\n",
    "cnx = mysql.connector.connect(\n",
    "    host = config.host,\n",
    "    user = config.user,\n",
    "    password = config.password,\n",
    "    database = \"water\")\n",
    "\n",
    "cursor = cnx.cursor()\n",
    "\n",
    "#create table\n",
    "DB_NAME = 'water'\n",
    "\n",
    "create_query = \"\"\"\n",
    "      CREATE TABLE water_table\n",
    "    ( ActivityIdentifier VARCHAR(50),\n",
    "      ActivityLatitude FLOAT(10),\n",
    "      ActivityLongitude FLOAT(10),\n",
    "      AnalysisStartDate DATE,\n",
    "      Contaminant VARCHAR(20),\n",
    "      DetectedLevel FLOAT(10),\n",
    "      LevelUnit VARCHAR(10),\n",
    "      ActivityMediaSubdivisionName VARCHAR(30)\n",
    "      )\n",
    "    \"\"\"\n"
   ]
  },
  {
   "cell_type": "code",
   "execution_count": 6,
   "metadata": {},
   "outputs": [],
   "source": [
    "cursor.execute(create_query)"
   ]
  },
  {
   "cell_type": "code",
   "execution_count": 26,
   "metadata": {},
   "outputs": [],
   "source": [
    "cnx = mysql.connector.connect(\n",
    "    host = config.host,\n",
    "    user = config.user,\n",
    "    password = config.password,\n",
    "    database = \"water\")\n",
    "\n",
    "cursor = cnx.cursor()\n",
    "\n",
    "def insert_data(dataframe):\n",
    "    tuples = list(dataframe.itertuples(index=False, name=None))\n",
    "    insert_statement = \"\"\"INSERT INTO water_table (ActivityIdentifier, \n",
    "                                                ActivityLatitude, \n",
    "                                                ActivityLongitude, \n",
    "                                                AnalysisStartDate,\n",
    "                                                Contaminant,\n",
    "                                                DetectedLevel,\n",
    "                                                LevelUnit,\n",
    "                                                ActivityMediaSubdivisionName\n",
    "                                                ) \n",
    "                            VALUES (%s, %s, %s, %s, %s, %s, %s, %s);\"\"\"\n",
    "    cursor.executemany(insert_statement, tuples)\n",
    "    cnx.commit()"
   ]
  },
  {
   "cell_type": "code",
   "execution_count": 27,
   "metadata": {},
   "outputs": [
    {
     "name": "stderr",
     "output_type": "stream",
     "text": [
      "/Users/cblessen/anaconda3/lib/python3.7/site-packages/IPython/core/interactiveshell.py:3248: DtypeWarning: Columns (5,7,8,9,10,11,12,14,15,17,19,20,21,23,24,25,26,31,32,33,54,57,58,60,61,62,63,66,67,68,69,70,72,73,75,76,78,80,82,83,84,85,88,91,94,95,122,123,124,125,126,127,128,129,130,131,132,133,134,135,136,137,138,139,148) have mixed types. Specify dtype option on import or set low_memory=False.\n",
      "  if (await self.run_code(code, result,  async_=asy)):\n"
     ]
    },
    {
     "name": "stdout",
     "output_type": "stream",
     "text": [
      "all csvs read\n"
     ]
    }
   ],
   "source": [
    "insert_data(read_csv(csvs))"
   ]
  },
  {
   "cell_type": "code",
   "execution_count": null,
   "metadata": {},
   "outputs": [],
   "source": []
  }
 ],
 "metadata": {
  "kernelspec": {
   "display_name": "Python 3",
   "language": "python",
   "name": "python3"
  },
  "language_info": {
   "codemirror_mode": {
    "name": "ipython",
    "version": 3
   },
   "file_extension": ".py",
   "mimetype": "text/x-python",
   "name": "python",
   "nbconvert_exporter": "python",
   "pygments_lexer": "ipython3",
   "version": "3.7.3"
  }
 },
 "nbformat": 4,
 "nbformat_minor": 2
}
