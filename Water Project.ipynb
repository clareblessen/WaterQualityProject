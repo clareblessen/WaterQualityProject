{
 "cells": [
  {
   "cell_type": "code",
   "execution_count": 5,
   "metadata": {},
   "outputs": [],
   "source": [
    "#instantiate cursor and load libraries\n",
    "import json\n",
    "import pandas as pd\n",
    "import requests\n",
    "import mysql.connector\n",
    "import time\n",
    "import config\n",
    "import requests\n",
    "from pandas.io.json import json_normalize"
   ]
  },
  {
   "cell_type": "code",
   "execution_count": 6,
   "metadata": {},
   "outputs": [],
   "source": [
    "import numpy as np"
   ]
  },
  {
   "cell_type": "code",
   "execution_count": 29,
   "metadata": {},
   "outputs": [],
   "source": [
    "csvs = ['NY_water_data', 'LA_water_data', 'IL_water_data', 'CO_water_data','AL_water_data.csv']\n",
    "#  'AL_water_data', "
   ]
  },
  {
   "cell_type": "code",
   "execution_count": 31,
   "metadata": {},
   "outputs": [
    {
     "name": "stderr",
     "output_type": "stream",
     "text": [
      "/Users/cblessen/anaconda3/lib/python3.7/site-packages/IPython/core/interactiveshell.py:3057: DtypeWarning: Columns (9,10,11,13,14,16,18,19,20,22,23,24,25,26,30,33,35,37,39,40,41,42,44,47,48,55,57,59,61) have mixed types. Specify dtype option on import or set low_memory=False.\n",
      "  interactivity=interactivity, compiler=compiler, result=result)\n"
     ]
    },
    {
     "ename": "KeyError",
     "evalue": "\"['ActivityLongitude', 'ActivityLatitude'] not in index\"",
     "output_type": "error",
     "traceback": [
      "\u001b[0;31m---------------------------------------------------------------------------\u001b[0m",
      "\u001b[0;31mKeyError\u001b[0m                                  Traceback (most recent call last)",
      "\u001b[0;32m<ipython-input-31-011629e68f11>\u001b[0m in \u001b[0;36m<module>\u001b[0;34m\u001b[0m\n\u001b[1;32m     14\u001b[0m                                                             \u001b[0;34m'DetectedLevel'\u001b[0m\u001b[0;34m,\u001b[0m\u001b[0;34m\u001b[0m\u001b[0;34m\u001b[0m\u001b[0m\n\u001b[1;32m     15\u001b[0m                                                             \u001b[0;34m'LevelUnit'\u001b[0m\u001b[0;34m,\u001b[0m\u001b[0;34m\u001b[0m\u001b[0;34m\u001b[0m\u001b[0m\n\u001b[0;32m---> 16\u001b[0;31m                                                             'ActivityMediaSubdivisionName']])\n\u001b[0m",
      "\u001b[0;32m~/anaconda3/lib/python3.7/site-packages/pandas/core/frame.py\u001b[0m in \u001b[0;36m__getitem__\u001b[0;34m(self, key)\u001b[0m\n\u001b[1;32m   2932\u001b[0m                 \u001b[0mkey\u001b[0m \u001b[0;34m=\u001b[0m \u001b[0mlist\u001b[0m\u001b[0;34m(\u001b[0m\u001b[0mkey\u001b[0m\u001b[0;34m)\u001b[0m\u001b[0;34m\u001b[0m\u001b[0;34m\u001b[0m\u001b[0m\n\u001b[1;32m   2933\u001b[0m             indexer = self.loc._convert_to_indexer(key, axis=1,\n\u001b[0;32m-> 2934\u001b[0;31m                                                    raise_missing=True)\n\u001b[0m\u001b[1;32m   2935\u001b[0m \u001b[0;34m\u001b[0m\u001b[0m\n\u001b[1;32m   2936\u001b[0m         \u001b[0;31m# take() does not accept boolean indexers\u001b[0m\u001b[0;34m\u001b[0m\u001b[0;34m\u001b[0m\u001b[0;34m\u001b[0m\u001b[0m\n",
      "\u001b[0;32m~/anaconda3/lib/python3.7/site-packages/pandas/core/indexing.py\u001b[0m in \u001b[0;36m_convert_to_indexer\u001b[0;34m(self, obj, axis, is_setter, raise_missing)\u001b[0m\n\u001b[1;32m   1352\u001b[0m                 kwargs = {'raise_missing': True if is_setter else\n\u001b[1;32m   1353\u001b[0m                           raise_missing}\n\u001b[0;32m-> 1354\u001b[0;31m                 \u001b[0;32mreturn\u001b[0m \u001b[0mself\u001b[0m\u001b[0;34m.\u001b[0m\u001b[0m_get_listlike_indexer\u001b[0m\u001b[0;34m(\u001b[0m\u001b[0mobj\u001b[0m\u001b[0;34m,\u001b[0m \u001b[0maxis\u001b[0m\u001b[0;34m,\u001b[0m \u001b[0;34m**\u001b[0m\u001b[0mkwargs\u001b[0m\u001b[0;34m)\u001b[0m\u001b[0;34m[\u001b[0m\u001b[0;36m1\u001b[0m\u001b[0;34m]\u001b[0m\u001b[0;34m\u001b[0m\u001b[0;34m\u001b[0m\u001b[0m\n\u001b[0m\u001b[1;32m   1355\u001b[0m         \u001b[0;32melse\u001b[0m\u001b[0;34m:\u001b[0m\u001b[0;34m\u001b[0m\u001b[0;34m\u001b[0m\u001b[0m\n\u001b[1;32m   1356\u001b[0m             \u001b[0;32mtry\u001b[0m\u001b[0;34m:\u001b[0m\u001b[0;34m\u001b[0m\u001b[0;34m\u001b[0m\u001b[0m\n",
      "\u001b[0;32m~/anaconda3/lib/python3.7/site-packages/pandas/core/indexing.py\u001b[0m in \u001b[0;36m_get_listlike_indexer\u001b[0;34m(self, key, axis, raise_missing)\u001b[0m\n\u001b[1;32m   1159\u001b[0m         self._validate_read_indexer(keyarr, indexer,\n\u001b[1;32m   1160\u001b[0m                                     \u001b[0mo\u001b[0m\u001b[0;34m.\u001b[0m\u001b[0m_get_axis_number\u001b[0m\u001b[0;34m(\u001b[0m\u001b[0maxis\u001b[0m\u001b[0;34m)\u001b[0m\u001b[0;34m,\u001b[0m\u001b[0;34m\u001b[0m\u001b[0;34m\u001b[0m\u001b[0m\n\u001b[0;32m-> 1161\u001b[0;31m                                     raise_missing=raise_missing)\n\u001b[0m\u001b[1;32m   1162\u001b[0m         \u001b[0;32mreturn\u001b[0m \u001b[0mkeyarr\u001b[0m\u001b[0;34m,\u001b[0m \u001b[0mindexer\u001b[0m\u001b[0;34m\u001b[0m\u001b[0;34m\u001b[0m\u001b[0m\n\u001b[1;32m   1163\u001b[0m \u001b[0;34m\u001b[0m\u001b[0m\n",
      "\u001b[0;32m~/anaconda3/lib/python3.7/site-packages/pandas/core/indexing.py\u001b[0m in \u001b[0;36m_validate_read_indexer\u001b[0;34m(self, key, indexer, axis, raise_missing)\u001b[0m\n\u001b[1;32m   1250\u001b[0m             \u001b[0;32mif\u001b[0m \u001b[0;32mnot\u001b[0m\u001b[0;34m(\u001b[0m\u001b[0mself\u001b[0m\u001b[0;34m.\u001b[0m\u001b[0mname\u001b[0m \u001b[0;34m==\u001b[0m \u001b[0;34m'loc'\u001b[0m \u001b[0;32mand\u001b[0m \u001b[0;32mnot\u001b[0m \u001b[0mraise_missing\u001b[0m\u001b[0;34m)\u001b[0m\u001b[0;34m:\u001b[0m\u001b[0;34m\u001b[0m\u001b[0;34m\u001b[0m\u001b[0m\n\u001b[1;32m   1251\u001b[0m                 \u001b[0mnot_found\u001b[0m \u001b[0;34m=\u001b[0m \u001b[0mlist\u001b[0m\u001b[0;34m(\u001b[0m\u001b[0mset\u001b[0m\u001b[0;34m(\u001b[0m\u001b[0mkey\u001b[0m\u001b[0;34m)\u001b[0m \u001b[0;34m-\u001b[0m \u001b[0mset\u001b[0m\u001b[0;34m(\u001b[0m\u001b[0max\u001b[0m\u001b[0;34m)\u001b[0m\u001b[0;34m)\u001b[0m\u001b[0;34m\u001b[0m\u001b[0;34m\u001b[0m\u001b[0m\n\u001b[0;32m-> 1252\u001b[0;31m                 \u001b[0;32mraise\u001b[0m \u001b[0mKeyError\u001b[0m\u001b[0;34m(\u001b[0m\u001b[0;34m\"{} not in index\"\u001b[0m\u001b[0;34m.\u001b[0m\u001b[0mformat\u001b[0m\u001b[0;34m(\u001b[0m\u001b[0mnot_found\u001b[0m\u001b[0;34m)\u001b[0m\u001b[0;34m)\u001b[0m\u001b[0;34m\u001b[0m\u001b[0;34m\u001b[0m\u001b[0m\n\u001b[0m\u001b[1;32m   1253\u001b[0m \u001b[0;34m\u001b[0m\u001b[0m\n\u001b[1;32m   1254\u001b[0m             \u001b[0;31m# we skip the warning on Categorical/Interval\u001b[0m\u001b[0;34m\u001b[0m\u001b[0;34m\u001b[0m\u001b[0;34m\u001b[0m\u001b[0m\n",
      "\u001b[0;31mKeyError\u001b[0m: \"['ActivityLongitude', 'ActivityLatitude'] not in index\""
     ]
    }
   ],
   "source": [
    "df = pd.read_csv('CO_data.csv')\n",
    "df.rename(columns={'ActivityLocation/LatitudeMeasure': 'ActivityLatitude',\n",
    "                   'ActivityLocation/LongitudeMeasure': 'ActivityLongitude',\n",
    "                   'CharacteristicName':'Contaminant',\n",
    "                   'ResultMeasureValue':'DetectedLevel',\n",
    "                   'ResultMeasure/MeasureUnitCode':'LevelUnit'}, inplace=True)\n",
    "rows = ['Lead', 'Copper']\n",
    "copper_and_lead_df = df[df['Contaminant'].isin(rows)]\n",
    "final_copper_and_lead_df = pd.DataFrame(copper_and_lead_df[['ActivityIdentifier',\n",
    "                                                            'ActivityLatitude',\n",
    "                                                            'ActivityLongitude',\n",
    "                                                            'AnalysisStartDate',\n",
    "                                                            'Contaminant',\n",
    "                                                            'DetectedLevel',\n",
    "                                                            'LevelUnit',\n",
    "                                                            'ActivityMediaSubdivisionName']])"
   ]
  },
  {
   "cell_type": "code",
   "execution_count": 24,
   "metadata": {},
   "outputs": [],
   "source": [
    "def read_csv(csvs):\n",
    "    for csv in csvs:\n",
    "        df = pd.read_csv(csv)\n",
    "        df.rename(columns={'ActivityLocation/LatitudeMeasure': 'ActivityLatitude',\n",
    "                           'ActivityLocation/LongitudeMeasure': 'ActivityLongitude',\n",
    "                           'CharacteristicName':'Contaminant',\n",
    "                           'ResultMeasureValue':'DetectedLevel',\n",
    "                           'ResultMeasure/MeasureUnitCode':'LevelUnit'}, inplace=True)\n",
    "        rows = ['Lead', 'Copper']\n",
    "        copper_and_lead_df = df[df['Contaminant'].isin(rows)]\n",
    "        final_copper_and_lead_df = pd.DataFrame(copper_and_lead_df[['ActivityIdentifier',\n",
    "                                                                    'ActivityLatitude',\n",
    "                                                                    'ActivityLongitude',\n",
    "                                                                    'AnalysisStartDate',\n",
    "                                                                    'Contaminant',\n",
    "                                                                    'DetectedLevel',\n",
    "                                                                    'LevelUnit',\n",
    "                                                                    'ActivityMediaSubdivisionName']])\n",
    "        \n",
    "        final_copper_and_lead_df = final_copper_and_lead_df.replace('ND', 0)\n",
    "        final_copper_and_lead_df = final_copper_and_lead_df.replace('< 2', 1)\n",
    "        final_copper_and_lead_df = final_copper_and_lead_df[pd.notnull(final_copper_and_lead_df['DetectedLevel'])]\n",
    "        final_copper_and_lead_df['DetectedLevel'] = final_copper_and_lead_df.DetectedLevel.astype(float)\n",
    "        final_copper_and_lead_df = final_copper_and_lead_df[pd.notnull(final_copper_and_lead_df['DetectedLevel'])]\n",
    "        final_copper_and_lead_df = final_copper_and_lead_df.where((pd.notnull(final_copper_and_lead_df)), None)\n",
    "        \n",
    "        print('all csvs read')\n",
    "        return final_copper_and_lead_df\n",
    "\n",
    "# read_csv(csvs)"
   ]
  },
  {
   "cell_type": "code",
   "execution_count": 4,
   "metadata": {},
   "outputs": [],
   "source": [
    "#set up mysql connection\n",
    "cnx = mysql.connector.connect(\n",
    "    host = config.host,\n",
    "    user = config.user,\n",
    "    password = config.password)\n",
    "    \n",
    "cursor = cnx.cursor()"
   ]
  },
  {
   "cell_type": "code",
   "execution_count": 19,
   "metadata": {},
   "outputs": [],
   "source": [
    "#create database\n",
    "from mysql.connector import errorcode\n",
    "db_name = 'water'\n",
    "\n",
    "def create_database(cursor, database):\n",
    "    try:\n",
    "        cursor.execute(\n",
    "            \"CREATE DATABASE {} DEFAULT CHARACTER SET 'utf8'\".format(database))\n",
    "    except mysql.connector.Error as err:\n",
    "        print(\"Failed creating database: {}\".format(err))\n",
    "        exit(1)\n",
    "\n",
    "try:\n",
    "    cursor.execute(\"USE {}\".format(db_name))\n",
    "except mysql.connector.Error as err:\n",
    "    print(\"Database {} does not exist.\".format(db_name))\n",
    "    if err.errno == errorcode.ER_BAD_DB_ERROR:\n",
    "        create_database(cursor, db_name)\n",
    "        print(\"Database {} created successfully.\".format(db_name))\n",
    "        cnx.database = db_name\n",
    "    else:\n",
    "        print(err)\n",
    "        exit(1)"
   ]
  },
  {
   "cell_type": "code",
   "execution_count": 7,
   "metadata": {},
   "outputs": [],
   "source": [
    "#specify database for connection\n",
    "cnx = mysql.connector.connect(\n",
    "    host = config.host,\n",
    "    user = config.user,\n",
    "    password = config.password,\n",
    "    database = \"water\")\n",
    "\n",
    "cursor = cnx.cursor()\n",
    "\n",
    "#create table\n",
    "DB_NAME = 'water'\n",
    "\n",
    "create_query = \"\"\"\n",
    "      CREATE TABLE water_table\n",
    "    ( ActivityIdentifier VARCHAR(50),\n",
    "      ActivityLatitude FLOAT(10),\n",
    "      ActivityLongitude FLOAT(10),\n",
    "      AnalysisStartDate DATE,\n",
    "      Contaminant VARCHAR(20),\n",
    "      DetectedLevel FLOAT(10),\n",
    "      LevelUnit VARCHAR(10),\n",
    "      ActivityMediaSubdivisionName VARCHAR(30)\n",
    "      )\n",
    "    \"\"\"\n"
   ]
  },
  {
   "cell_type": "code",
   "execution_count": 28,
   "metadata": {},
   "outputs": [],
   "source": [
    "# cursor.execute(create_query)"
   ]
  },
  {
   "cell_type": "code",
   "execution_count": 12,
   "metadata": {},
   "outputs": [],
   "source": [
    "cnx = mysql.connector.connect(\n",
    "    host = config.host,\n",
    "    user = config.user,\n",
    "    password = config.password,\n",
    "    database = \"water\")\n",
    "\n",
    "cursor = cnx.cursor()\n",
    "\n",
    "def insert_data(dataframe):\n",
    "    tuples = list(dataframe.itertuples(index=False, name=None))\n",
    "    insert_statement = \"\"\"INSERT INTO water_table (ActivityIdentifier, \n",
    "                                                ActivityLatitude, \n",
    "                                                ActivityLongitude, \n",
    "                                                AnalysisStartDate,\n",
    "                                                Contaminant,\n",
    "                                                DetectedLevel,\n",
    "                                                LevelUnit,\n",
    "                                                ActivityMediaSubdivisionName\n",
    "                                                ) \n",
    "                            VALUES (%s, %s, %s, %s, %s, %s, %s, %s);\"\"\"\n",
    "    cursor.executemany(insert_statement, tuples)\n",
    "    cnx.commit()"
   ]
  },
  {
   "cell_type": "code",
   "execution_count": 30,
   "metadata": {},
   "outputs": [
    {
     "name": "stderr",
     "output_type": "stream",
     "text": [
      "/Users/cblessen/anaconda3/lib/python3.7/site-packages/IPython/core/interactiveshell.py:3248: DtypeWarning: Columns (5,9,10,11,12,14,15,17,19,20,21,23,25,26,32,33,54,58,60,61,62,63,66,67,69,70,73,76,78,80,82,83,84,85,91,94,127,128,129,130,134,135,139,140,148) have mixed types. Specify dtype option on import or set low_memory=False.\n",
      "  if (await self.run_code(code, result,  async_=asy)):\n"
     ]
    },
    {
     "name": "stdout",
     "output_type": "stream",
     "text": [
      "all csvs read\n"
     ]
    }
   ],
   "source": [
    "insert_data(read_csv(csvs))"
   ]
  },
  {
   "cell_type": "code",
   "execution_count": null,
   "metadata": {},
   "outputs": [],
   "source": []
  }
 ],
 "metadata": {
  "kernelspec": {
   "display_name": "Python 3",
   "language": "python",
   "name": "python3"
  },
  "language_info": {
   "codemirror_mode": {
    "name": "ipython",
    "version": 3
   },
   "file_extension": ".py",
   "mimetype": "text/x-python",
   "name": "python",
   "nbconvert_exporter": "python",
   "pygments_lexer": "ipython3",
   "version": "3.7.3"
  }
 },
 "nbformat": 4,
 "nbformat_minor": 2
}
