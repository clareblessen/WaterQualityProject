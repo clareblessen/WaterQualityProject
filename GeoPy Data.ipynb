{
 "cells": [
  {
   "cell_type": "code",
   "execution_count": 1,
   "metadata": {},
   "outputs": [
    {
     "name": "stdout",
     "output_type": "stream",
     "text": [
      "Requirement already satisfied: geopy in /Users/stephaniekendall/anaconda3/lib/python3.7/site-packages (1.20.0)\n",
      "Requirement already satisfied: geographiclib<2,>=1.49 in /Users/stephaniekendall/anaconda3/lib/python3.7/site-packages (from geopy) (1.50)\n",
      "Note: you may need to restart the kernel to use updated packages.\n"
     ]
    }
   ],
   "source": [
    "pip install geopy"
   ]
  },
  {
   "cell_type": "code",
   "execution_count": 1,
   "metadata": {},
   "outputs": [],
   "source": [
    "from geopy import geocoders\n",
    "from geopy.geocoders import Nominatim\n",
    "import config"
   ]
  },
  {
   "cell_type": "code",
   "execution_count": 2,
   "metadata": {
    "scrolled": true
   },
   "outputs": [
    {
     "name": "stdout",
     "output_type": "stream",
     "text": [
      "Collecting package metadata (current_repodata.json): done\n",
      "Solving environment: failed with current_repodata.json, will retry with next repodata source.\n",
      "Initial quick solve with frozen env failed.  Unfreezing env and trying again.\n",
      "Solving environment: failed with current_repodata.json, will retry with next repodata source.\n",
      "Collecting package metadata (repodata.json): done\n",
      "Solving environment: done\n",
      "\n",
      "## Package Plan ##\n",
      "\n",
      "  environment location: /Users/stephaniekendall/anaconda3\n",
      "\n",
      "  added / updated specs:\n",
      "    - geopandas\n",
      "\n",
      "\n",
      "The following packages will be downloaded:\n",
      "\n",
      "    package                    |            build\n",
      "    ---------------------------|-----------------\n",
      "    cairo-1.14.12              |       hc4e6be7_4         860 KB\n",
      "    click-plugins-1.1.1        |             py_0          11 KB\n",
      "    cligj-0.5.0                |           py37_0          12 KB\n",
      "    conda-4.7.12               |           py37_0         3.0 MB\n",
      "    fiona-1.8.4                |   py37h9a122fd_0         642 KB\n",
      "    fontconfig-2.13.0          |       h5d5b041_1         202 KB\n",
      "    freexl-1.0.5               |       h1de35cc_0          39 KB\n",
      "    gdal-2.3.3                 |   py37hbe65578_0        1023 KB\n",
      "    geopandas-0.6.1            |             py_0         871 KB\n",
      "    geos-3.7.1                 |       h0a44026_0         1.1 MB\n",
      "    giflib-5.1.4               |       h1de35cc_1          59 KB\n",
      "    hdf4-4.2.13                |       h39711bb_2         682 KB\n",
      "    json-c-0.13.1              |       h3efe00b_0          59 KB\n",
      "    kealib-1.4.7               |       hf5ed860_6         134 KB\n",
      "    libboost-1.67.0            |       hebc422b_4        12.7 MB\n",
      "    libdap4-3.19.1             |       h3d3e54a_0         1.1 MB\n",
      "    libgdal-2.3.3              |       h0950a36_0        10.2 MB\n",
      "    libkml-1.3.0               |       hbe12b63_4         427 KB\n",
      "    libnetcdf-4.6.1            |       hd5207e6_2         777 KB\n",
      "    libpq-11.2                 |       h051b688_0         1.9 MB\n",
      "    libspatialindex-1.9.3      |       h0a44026_0         421 KB\n",
      "    libspatialite-4.3.0a       |      h644ec7d_19         2.1 MB\n",
      "    munch-2.5.0                |             py_0          16 KB\n",
      "    openjpeg-2.3.0             |       hb95cd4c_1         281 KB\n",
      "    pixman-0.38.0              |       h1de35cc_0         341 KB\n",
      "    poppler-0.65.0             |       ha097c24_1         1.3 MB\n",
      "    poppler-data-0.4.9         |                0         1.9 MB\n",
      "    proj4-5.2.0                |       h0a44026_1         6.6 MB\n",
      "    pyproj-1.9.6               |   py37h9c430a6_0          58 KB\n",
      "    rtree-0.8.3                |           py37_0          45 KB\n",
      "    shapely-1.6.4              |   py37he8793f5_0         280 KB\n",
      "    xerces-c-3.2.2             |       h44e365a_0         1.9 MB\n",
      "    ------------------------------------------------------------\n",
      "                                           Total:        50.8 MB\n",
      "\n",
      "The following NEW packages will be INSTALLED:\n",
      "\n",
      "  cairo              pkgs/main/osx-64::cairo-1.14.12-hc4e6be7_4\n",
      "  click-plugins      pkgs/main/noarch::click-plugins-1.1.1-py_0\n",
      "  cligj              pkgs/main/osx-64::cligj-0.5.0-py37_0\n",
      "  fiona              pkgs/main/osx-64::fiona-1.8.4-py37h9a122fd_0\n",
      "  fontconfig         pkgs/main/osx-64::fontconfig-2.13.0-h5d5b041_1\n",
      "  freexl             pkgs/main/osx-64::freexl-1.0.5-h1de35cc_0\n",
      "  gdal               pkgs/main/osx-64::gdal-2.3.3-py37hbe65578_0\n",
      "  geopandas          pkgs/main/noarch::geopandas-0.6.1-py_0\n",
      "  geos               pkgs/main/osx-64::geos-3.7.1-h0a44026_0\n",
      "  giflib             pkgs/main/osx-64::giflib-5.1.4-h1de35cc_1\n",
      "  hdf4               pkgs/main/osx-64::hdf4-4.2.13-h39711bb_2\n",
      "  json-c             pkgs/main/osx-64::json-c-0.13.1-h3efe00b_0\n",
      "  kealib             pkgs/main/osx-64::kealib-1.4.7-hf5ed860_6\n",
      "  libboost           pkgs/main/osx-64::libboost-1.67.0-hebc422b_4\n",
      "  libdap4            pkgs/main/osx-64::libdap4-3.19.1-h3d3e54a_0\n",
      "  libgdal            pkgs/main/osx-64::libgdal-2.3.3-h0950a36_0\n",
      "  libkml             pkgs/main/osx-64::libkml-1.3.0-hbe12b63_4\n",
      "  libnetcdf          pkgs/main/osx-64::libnetcdf-4.6.1-hd5207e6_2\n",
      "  libpq              pkgs/main/osx-64::libpq-11.2-h051b688_0\n",
      "  libspatialindex    pkgs/main/osx-64::libspatialindex-1.9.3-h0a44026_0\n",
      "  libspatialite      pkgs/main/osx-64::libspatialite-4.3.0a-h644ec7d_19\n",
      "  munch              pkgs/main/noarch::munch-2.5.0-py_0\n",
      "  openjpeg           pkgs/main/osx-64::openjpeg-2.3.0-hb95cd4c_1\n",
      "  pixman             pkgs/main/osx-64::pixman-0.38.0-h1de35cc_0\n",
      "  poppler            pkgs/main/osx-64::poppler-0.65.0-ha097c24_1\n",
      "  poppler-data       pkgs/main/osx-64::poppler-data-0.4.9-0\n",
      "  proj4              pkgs/main/osx-64::proj4-5.2.0-h0a44026_1\n",
      "  pyproj             pkgs/main/osx-64::pyproj-1.9.6-py37h9c430a6_0\n",
      "  rtree              pkgs/main/osx-64::rtree-0.8.3-py37_0\n",
      "  shapely            pkgs/main/osx-64::shapely-1.6.4-py37he8793f5_0\n",
      "  xerces-c           pkgs/main/osx-64::xerces-c-3.2.2-h44e365a_0\n",
      "\n",
      "The following packages will be UPDATED:\n",
      "\n",
      "  conda                                       4.7.10-py37_0 --> 4.7.12-py37_0\n",
      "\n",
      "\n",
      "\n",
      "Downloading and Extracting Packages\n",
      "hdf4-4.2.13          | 682 KB    | ##################################### | 100% \n",
      "gdal-2.3.3           | 1023 KB   | ##################################### | 100% \n",
      "cairo-1.14.12        | 860 KB    | ##################################### | 100% \n",
      "rtree-0.8.3          | 45 KB     | ##################################### | 100% \n",
      "click-plugins-1.1.1  | 11 KB     | ##################################### | 100% \n",
      "fiona-1.8.4          | 642 KB    | ##################################### | 100% \n",
      "xerces-c-3.2.2       | 1.9 MB    | ##################################### | 100% \n",
      "pixman-0.38.0        | 341 KB    | ##################################### | 100% \n",
      "libgdal-2.3.3        | 10.2 MB   | ##################################### | 100% \n",
      "munch-2.5.0          | 16 KB     | ##################################### | 100% \n",
      "shapely-1.6.4        | 280 KB    | ##################################### | 100% \n",
      "libkml-1.3.0         | 427 KB    | ##################################### | 100% \n",
      "poppler-0.65.0       | 1.3 MB    | ##################################### | 100% \n",
      "libpq-11.2           | 1.9 MB    | ##################################### | 100% \n",
      "poppler-data-0.4.9   | 1.9 MB    | ##################################### | 100% \n",
      "geopandas-0.6.1      | 871 KB    | ##################################### | 100% \n",
      "geos-3.7.1           | 1.1 MB    | ##################################### | 100% \n",
      "libnetcdf-4.6.1      | 777 KB    | ##################################### | 100% \n",
      "libboost-1.67.0      | 12.7 MB   | ##################################### | 100% \n",
      "cligj-0.5.0          | 12 KB     | ##################################### | 100% \n",
      "kealib-1.4.7         | 134 KB    | ##################################### | 100% \n",
      "pyproj-1.9.6         | 58 KB     | ##################################### | 100% \n",
      "libdap4-3.19.1       | 1.1 MB    | ##################################### | 100% \n",
      "openjpeg-2.3.0       | 281 KB    | ##################################### | 100% \n",
      "libspatialindex-1.9. | 421 KB    | ##################################### | 100% \n",
      "conda-4.7.12         | 3.0 MB    | ##################################### | 100% \n",
      "fontconfig-2.13.0    | 202 KB    | ##################################### | 100% \n",
      "giflib-5.1.4         | 59 KB     | ##################################### | 100% \n",
      "freexl-1.0.5         | 39 KB     | ##################################### | 100% \n",
      "json-c-0.13.1        | 59 KB     | ##################################### | 100% \n",
      "libspatialite-4.3.0a | 2.1 MB    | ##################################### | 100% \n",
      "proj4-5.2.0          | 6.6 MB    | ##################################### | 100% \n",
      "Preparing transaction: done\n",
      "Verifying transaction: done\n",
      "Executing transaction: done\n",
      "\n",
      "Note: you may need to restart the kernel to use updated packages.\n"
     ]
    }
   ],
   "source": [
    "conda install geopandas"
   ]
  },
  {
   "cell_type": "code",
   "execution_count": 3,
   "metadata": {
    "collapsed": true
   },
   "outputs": [
    {
     "name": "stdout",
     "output_type": "stream",
     "text": [
      "Collecting package metadata (current_repodata.json): done\n",
      "Solving environment: | \n",
      "The environment is inconsistent, please check the package plan carefully\n",
      "The following packages are causing the inconsistency:\n",
      "\n",
      "  - defaults/osx-64::anaconda==2019.07=py37_0\n",
      "  - defaults/osx-64::numba==0.44.1=py37h6440ff4_0\n",
      "done\n",
      "\n",
      "## Package Plan ##\n",
      "\n",
      "  environment location: /Users/stephaniekendall/anaconda3\n",
      "\n",
      "  added / updated specs:\n",
      "    - bokeh\n",
      "\n",
      "\n",
      "The following packages will be downloaded:\n",
      "\n",
      "    package                    |            build\n",
      "    ---------------------------|-----------------\n",
      "    _anaconda_depends-2019.03  |           py37_0           6 KB\n",
      "    anaconda-custom            |           py37_1           3 KB\n",
      "    bokeh-1.4.0                |           py37_0        13.6 MB\n",
      "    ca-certificates-2019.10.16 |                0         131 KB\n",
      "    certifi-2019.9.11          |           py37_0         154 KB\n",
      "    openssl-1.1.1d             |       h1de35cc_3         3.4 MB\n",
      "    tbb-2019.8                 |       h04f5b5a_0         149 KB\n",
      "    ------------------------------------------------------------\n",
      "                                           Total:        17.4 MB\n",
      "\n",
      "The following NEW packages will be INSTALLED:\n",
      "\n",
      "  _anaconda_depends  pkgs/main/osx-64::_anaconda_depends-2019.03-py37_0\n",
      "  tbb                pkgs/main/osx-64::tbb-2019.8-h04f5b5a_0\n",
      "\n",
      "The following packages will be UPDATED:\n",
      "\n",
      "  bokeh                                        1.2.0-py37_0 --> 1.4.0-py37_0\n",
      "  ca-certificates                               2019.5.15-0 --> 2019.10.16-0\n",
      "  certifi                                  2019.6.16-py37_0 --> 2019.9.11-py37_0\n",
      "  openssl                                 1.1.1c-h1de35cc_1 --> 1.1.1d-h1de35cc_3\n",
      "\n",
      "The following packages will be DOWNGRADED:\n",
      "\n",
      "  anaconda                                   2019.07-py37_0 --> custom-py37_1\n",
      "\n",
      "\n",
      "\n",
      "Downloading and Extracting Packages\n",
      "bokeh-1.4.0          | 13.6 MB   | ##################################### | 100% \n",
      "tbb-2019.8           | 149 KB    | ##################################### | 100% \n",
      "_anaconda_depends-20 | 6 KB      | ##################################### | 100% \n",
      "certifi-2019.9.11    | 154 KB    | ##################################### | 100% \n",
      "openssl-1.1.1d       | 3.4 MB    | ##################################### | 100% \n",
      "ca-certificates-2019 | 131 KB    | ##################################### | 100% \n",
      "anaconda-custom      | 3 KB      | ##################################### | 100% \n",
      "Preparing transaction: done\n",
      "Verifying transaction: done\n",
      "Executing transaction: done\n",
      "\n",
      "Note: you may need to restart the kernel to use updated packages.\n"
     ]
    }
   ],
   "source": [
    "conda install bokeh"
   ]
  },
  {
   "cell_type": "code",
   "execution_count": 1,
   "metadata": {},
   "outputs": [],
   "source": [
    "import geopandas as gpd"
   ]
  },
  {
   "cell_type": "code",
   "execution_count": 2,
   "metadata": {},
   "outputs": [
    {
     "ename": "DriverError",
     "evalue": "data/cb_2018_us_county_20m.shp: No such file or directory",
     "output_type": "error",
     "traceback": [
      "\u001b[0;31m---------------------------------------------------------------------------\u001b[0m",
      "\u001b[0;31mCPLE_OpenFailedError\u001b[0m                      Traceback (most recent call last)",
      "\u001b[0;32mfiona/_shim.pyx\u001b[0m in \u001b[0;36mfiona._shim.gdal_open_vector\u001b[0;34m()\u001b[0m\n",
      "\u001b[0;32mfiona/_err.pyx\u001b[0m in \u001b[0;36mfiona._err.exc_wrap_pointer\u001b[0;34m()\u001b[0m\n",
      "\u001b[0;31mCPLE_OpenFailedError\u001b[0m: data/cb_2018_us_county_20m.shp: No such file or directory",
      "\nDuring handling of the above exception, another exception occurred:\n",
      "\u001b[0;31mDriverError\u001b[0m                               Traceback (most recent call last)",
      "\u001b[0;32m<ipython-input-2-6e4e412b1f30>\u001b[0m in \u001b[0;36m<module>\u001b[0;34m\u001b[0m\n\u001b[0;32m----> 1\u001b[0;31m \u001b[0mcounties_map\u001b[0m \u001b[0;34m=\u001b[0m \u001b[0mgpd\u001b[0m\u001b[0;34m.\u001b[0m\u001b[0mread_file\u001b[0m\u001b[0;34m(\u001b[0m\u001b[0;34m'data/cb_2018_us_county_20m.shp'\u001b[0m\u001b[0;34m)\u001b[0m\u001b[0;34m\u001b[0m\u001b[0;34m\u001b[0m\u001b[0m\n\u001b[0m\u001b[1;32m      2\u001b[0m \u001b[0mcounties_map\u001b[0m\u001b[0;34m.\u001b[0m\u001b[0mhead\u001b[0m\u001b[0;34m(\u001b[0m\u001b[0;34m)\u001b[0m\u001b[0;34m\u001b[0m\u001b[0;34m\u001b[0m\u001b[0m\n",
      "\u001b[0;32m~/anaconda3/lib/python3.7/site-packages/geopandas/io/file.py\u001b[0m in \u001b[0;36mread_file\u001b[0;34m(filename, bbox, **kwargs)\u001b[0m\n\u001b[1;32m     74\u001b[0m \u001b[0;34m\u001b[0m\u001b[0m\n\u001b[1;32m     75\u001b[0m     \u001b[0;32mwith\u001b[0m \u001b[0mfiona_env\u001b[0m\u001b[0;34m(\u001b[0m\u001b[0;34m)\u001b[0m\u001b[0;34m:\u001b[0m\u001b[0;34m\u001b[0m\u001b[0;34m\u001b[0m\u001b[0m\n\u001b[0;32m---> 76\u001b[0;31m         \u001b[0;32mwith\u001b[0m \u001b[0mreader\u001b[0m\u001b[0;34m(\u001b[0m\u001b[0mpath_or_bytes\u001b[0m\u001b[0;34m,\u001b[0m \u001b[0;34m**\u001b[0m\u001b[0mkwargs\u001b[0m\u001b[0;34m)\u001b[0m \u001b[0;32mas\u001b[0m \u001b[0mfeatures\u001b[0m\u001b[0;34m:\u001b[0m\u001b[0;34m\u001b[0m\u001b[0;34m\u001b[0m\u001b[0m\n\u001b[0m\u001b[1;32m     77\u001b[0m \u001b[0;34m\u001b[0m\u001b[0m\n\u001b[1;32m     78\u001b[0m             \u001b[0;31m# In a future Fiona release the crs attribute of features will\u001b[0m\u001b[0;34m\u001b[0m\u001b[0;34m\u001b[0m\u001b[0;34m\u001b[0m\u001b[0m\n",
      "\u001b[0;32m~/anaconda3/lib/python3.7/site-packages/fiona/env.py\u001b[0m in \u001b[0;36mwrapper\u001b[0;34m(*args, **kwargs)\u001b[0m\n\u001b[1;32m    394\u001b[0m     \u001b[0;32mdef\u001b[0m \u001b[0mwrapper\u001b[0m\u001b[0;34m(\u001b[0m\u001b[0;34m*\u001b[0m\u001b[0margs\u001b[0m\u001b[0;34m,\u001b[0m \u001b[0;34m**\u001b[0m\u001b[0mkwargs\u001b[0m\u001b[0;34m)\u001b[0m\u001b[0;34m:\u001b[0m\u001b[0;34m\u001b[0m\u001b[0;34m\u001b[0m\u001b[0m\n\u001b[1;32m    395\u001b[0m         \u001b[0;32mif\u001b[0m \u001b[0mlocal\u001b[0m\u001b[0;34m.\u001b[0m\u001b[0m_env\u001b[0m\u001b[0;34m:\u001b[0m\u001b[0;34m\u001b[0m\u001b[0;34m\u001b[0m\u001b[0m\n\u001b[0;32m--> 396\u001b[0;31m             \u001b[0;32mreturn\u001b[0m \u001b[0mf\u001b[0m\u001b[0;34m(\u001b[0m\u001b[0;34m*\u001b[0m\u001b[0margs\u001b[0m\u001b[0;34m,\u001b[0m \u001b[0;34m**\u001b[0m\u001b[0mkwargs\u001b[0m\u001b[0;34m)\u001b[0m\u001b[0;34m\u001b[0m\u001b[0;34m\u001b[0m\u001b[0m\n\u001b[0m\u001b[1;32m    397\u001b[0m         \u001b[0;32melse\u001b[0m\u001b[0;34m:\u001b[0m\u001b[0;34m\u001b[0m\u001b[0;34m\u001b[0m\u001b[0m\n\u001b[1;32m    398\u001b[0m             \u001b[0;32mif\u001b[0m \u001b[0misinstance\u001b[0m\u001b[0;34m(\u001b[0m\u001b[0margs\u001b[0m\u001b[0;34m[\u001b[0m\u001b[0;36m0\u001b[0m\u001b[0;34m]\u001b[0m\u001b[0;34m,\u001b[0m \u001b[0mstr\u001b[0m\u001b[0;34m)\u001b[0m\u001b[0;34m:\u001b[0m\u001b[0;34m\u001b[0m\u001b[0;34m\u001b[0m\u001b[0m\n",
      "\u001b[0;32m~/anaconda3/lib/python3.7/site-packages/fiona/__init__.py\u001b[0m in \u001b[0;36mopen\u001b[0;34m(fp, mode, driver, schema, crs, encoding, layer, vfs, enabled_drivers, crs_wkt, **kwargs)\u001b[0m\n\u001b[1;32m    251\u001b[0m         \u001b[0;32mif\u001b[0m \u001b[0mmode\u001b[0m \u001b[0;32min\u001b[0m \u001b[0;34m(\u001b[0m\u001b[0;34m'a'\u001b[0m\u001b[0;34m,\u001b[0m \u001b[0;34m'r'\u001b[0m\u001b[0;34m)\u001b[0m\u001b[0;34m:\u001b[0m\u001b[0;34m\u001b[0m\u001b[0;34m\u001b[0m\u001b[0m\n\u001b[1;32m    252\u001b[0m             c = Collection(path, mode, driver=driver, encoding=encoding,\n\u001b[0;32m--> 253\u001b[0;31m                            layer=layer, enabled_drivers=enabled_drivers, **kwargs)\n\u001b[0m\u001b[1;32m    254\u001b[0m         \u001b[0;32melif\u001b[0m \u001b[0mmode\u001b[0m \u001b[0;34m==\u001b[0m \u001b[0;34m'w'\u001b[0m\u001b[0;34m:\u001b[0m\u001b[0;34m\u001b[0m\u001b[0;34m\u001b[0m\u001b[0m\n\u001b[1;32m    255\u001b[0m             \u001b[0;32mif\u001b[0m \u001b[0mschema\u001b[0m\u001b[0;34m:\u001b[0m\u001b[0;34m\u001b[0m\u001b[0;34m\u001b[0m\u001b[0m\n",
      "\u001b[0;32m~/anaconda3/lib/python3.7/site-packages/fiona/collection.py\u001b[0m in \u001b[0;36m__init__\u001b[0;34m(self, path, mode, driver, schema, crs, encoding, layer, vsi, archive, enabled_drivers, crs_wkt, ignore_fields, ignore_geometry, **kwargs)\u001b[0m\n\u001b[1;32m    157\u001b[0m             \u001b[0;32mif\u001b[0m \u001b[0mself\u001b[0m\u001b[0;34m.\u001b[0m\u001b[0mmode\u001b[0m \u001b[0;34m==\u001b[0m \u001b[0;34m'r'\u001b[0m\u001b[0;34m:\u001b[0m\u001b[0;34m\u001b[0m\u001b[0;34m\u001b[0m\u001b[0m\n\u001b[1;32m    158\u001b[0m                 \u001b[0mself\u001b[0m\u001b[0;34m.\u001b[0m\u001b[0msession\u001b[0m \u001b[0;34m=\u001b[0m \u001b[0mSession\u001b[0m\u001b[0;34m(\u001b[0m\u001b[0;34m)\u001b[0m\u001b[0;34m\u001b[0m\u001b[0;34m\u001b[0m\u001b[0m\n\u001b[0;32m--> 159\u001b[0;31m                 \u001b[0mself\u001b[0m\u001b[0;34m.\u001b[0m\u001b[0msession\u001b[0m\u001b[0;34m.\u001b[0m\u001b[0mstart\u001b[0m\u001b[0;34m(\u001b[0m\u001b[0mself\u001b[0m\u001b[0;34m,\u001b[0m \u001b[0;34m**\u001b[0m\u001b[0mkwargs\u001b[0m\u001b[0;34m)\u001b[0m\u001b[0;34m\u001b[0m\u001b[0;34m\u001b[0m\u001b[0m\n\u001b[0m\u001b[1;32m    160\u001b[0m             \u001b[0;32melif\u001b[0m \u001b[0mself\u001b[0m\u001b[0;34m.\u001b[0m\u001b[0mmode\u001b[0m \u001b[0;32min\u001b[0m \u001b[0;34m(\u001b[0m\u001b[0;34m'a'\u001b[0m\u001b[0;34m,\u001b[0m \u001b[0;34m'w'\u001b[0m\u001b[0;34m)\u001b[0m\u001b[0;34m:\u001b[0m\u001b[0;34m\u001b[0m\u001b[0;34m\u001b[0m\u001b[0m\n\u001b[1;32m    161\u001b[0m                 \u001b[0mself\u001b[0m\u001b[0;34m.\u001b[0m\u001b[0msession\u001b[0m \u001b[0;34m=\u001b[0m \u001b[0mWritingSession\u001b[0m\u001b[0;34m(\u001b[0m\u001b[0;34m)\u001b[0m\u001b[0;34m\u001b[0m\u001b[0;34m\u001b[0m\u001b[0m\n",
      "\u001b[0;32mfiona/ogrext.pyx\u001b[0m in \u001b[0;36mfiona.ogrext.Session.start\u001b[0;34m()\u001b[0m\n",
      "\u001b[0;32mfiona/_shim.pyx\u001b[0m in \u001b[0;36mfiona._shim.gdal_open_vector\u001b[0;34m()\u001b[0m\n",
      "\u001b[0;31mDriverError\u001b[0m: data/cb_2018_us_county_20m.shp: No such file or directory"
     ]
    }
   ],
   "source": [
    "counties_map = gpd.read_file('data/cb_2018_us_county_20m.shp')\n",
    "counties_map.head()"
   ]
  },
  {
   "cell_type": "code",
   "execution_count": null,
   "metadata": {},
   "outputs": [],
   "source": []
  }
 ],
 "metadata": {
  "kernelspec": {
   "display_name": "Python 3",
   "language": "python",
   "name": "python3"
  },
  "language_info": {
   "codemirror_mode": {
    "name": "ipython",
    "version": 3
   },
   "file_extension": ".py",
   "mimetype": "text/x-python",
   "name": "python",
   "nbconvert_exporter": "python",
   "pygments_lexer": "ipython3",
   "version": "3.7.3"
  }
 },
 "nbformat": 4,
 "nbformat_minor": 2
}
